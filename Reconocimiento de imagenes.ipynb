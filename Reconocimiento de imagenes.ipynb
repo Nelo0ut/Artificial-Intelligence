{
  "nbformat": 4,
  "nbformat_minor": 0,
  "metadata": {
    "colab": {
      "provenance": [],
      "authorship_tag": "ABX9TyNFJ6RFJTxzXlKJhL1jHqRj",
      "include_colab_link": true
    },
    "kernelspec": {
      "name": "python3",
      "display_name": "Python 3"
    },
    "language_info": {
      "name": "python"
    }
  },
  "cells": [
    {
      "cell_type": "markdown",
      "metadata": {
        "id": "view-in-github",
        "colab_type": "text"
      },
      "source": [
        "<a href=\"https://colab.research.google.com/github/Nelo0ut/Reconocimiento-de-imagenes/blob/main/Reconocimiento%20de%20imagenes.ipynb\" target=\"_parent\"><img src=\"https://colab.research.google.com/assets/colab-badge.svg\" alt=\"Open In Colab\"/></a>"
      ]
    },
    {
      "cell_type": "markdown",
      "source": [
        "Aqui realizamos la conexion a nuestro Drive para poder hacer uso de nuestra data que hemos compartido previamente en el Manual"
      ],
      "metadata": {
        "id": "0E2z0mYokrXm"
      }
    },
    {
      "cell_type": "code",
      "execution_count": 1,
      "metadata": {
        "colab": {
          "base_uri": "https://localhost:8080/"
        },
        "id": "x5JzfRWqczXd",
        "outputId": "4308952b-ef90-4e5b-c859-1f543d7baeb9"
      },
      "outputs": [
        {
          "output_type": "stream",
          "name": "stdout",
          "text": [
            "Mounted at /content/drive\n"
          ]
        }
      ],
      "source": [
        "from google.colab import drive\n",
        "drive.mount('/content/drive') "
      ]
    },
    {
      "cell_type": "markdown",
      "source": [
        "Importamos las libreas que iremos a usar"
      ],
      "metadata": {
        "id": "pfwXqYpok6JN"
      }
    },
    {
      "cell_type": "code",
      "source": [
        "import numpy as np\n",
        "from keras.preprocessing.image import load_img, img_to_array\n",
        "from keras.models import load_model\n"
      ],
      "metadata": {
        "id": "51T2nrXvc06q"
      },
      "execution_count": 2,
      "outputs": []
    },
    {
      "cell_type": "markdown",
      "source": [
        "Y finalmente tenemos nuestro aplicativo para el reconocimiento de imagenes, no olvidar de importar los modelos y pesos ademas de la carpeta con imagenes que quiera reconocer en su drive para su ejecución"
      ],
      "metadata": {
        "id": "Ttv6kchDlfAN"
      }
    },
    {
      "cell_type": "code",
      "source": [
        "longitud, altura = 150, 150\n",
        "modelo = '/content/drive/MyDrive/modelo3/modelo.h5'\n",
        "pesos_modelo = '/content/drive/MyDrive/modelo3/pesos.h5'\n",
        "\n",
        "cnn = load_model(modelo)\n",
        "cnn.load_weights(pesos_modelo)\n",
        "\n",
        "def predict(file):\n",
        "  x = load_img(file, target_size=(longitud, altura))\n",
        "  x = img_to_array(x)\n",
        "  x = np.expand_dims(x, axis=0)\n",
        "  array = cnn.predict(x)\n",
        "  result = array[0]\n",
        "  answer = np.argmax(result)\n",
        "  if answer == 0:\n",
        "    print(\"pred: Audifonos\")\n",
        "  elif answer == 1:\n",
        "    print(\"pred: Billetera\")\n",
        "  elif answer == 2:\n",
        "    print(\"pred: Botella\")\n",
        "  elif answer == 3:\n",
        "    print(\"pred: Cama\")\n",
        "  elif answer == 4:\n",
        "    print(\"pred: Cuaderno\")\n",
        "  elif answer == 5:\n",
        "    print(\"pred: Laptop\")\n",
        "  elif answer == 6:\n",
        "    print(\"pred: Mochila\")\n",
        "  elif answer == 7:\n",
        "    print(\"pred: Monitor\")\n",
        "  elif answer == 8:\n",
        "    print(\"pred: Mouse\")\n",
        "  elif answer == 9:\n",
        "    print(\"pred: Teclado\")\n",
        "\n",
        "  return answer\n",
        "\n",
        "predict('/content/drive/MyDrive/Test/cuadreno.jpg')"
      ],
      "metadata": {
        "colab": {
          "base_uri": "https://localhost:8080/"
        },
        "id": "0GQ06e9-dynI",
        "outputId": "7a1b2139-8842-4594-c882-de44639639f7"
      },
      "execution_count": 4,
      "outputs": [
        {
          "output_type": "stream",
          "name": "stdout",
          "text": [
            "1/1 [==============================] - 1s 533ms/step\n",
            "pred: Cuaderno\n"
          ]
        },
        {
          "output_type": "execute_result",
          "data": {
            "text/plain": [
              "4"
            ]
          },
          "metadata": {},
          "execution_count": 4
        }
      ]
    }
  ]
}