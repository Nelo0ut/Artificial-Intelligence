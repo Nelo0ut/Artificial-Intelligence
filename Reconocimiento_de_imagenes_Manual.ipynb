{
  "nbformat": 4,
  "nbformat_minor": 0,
  "metadata": {
    "colab": {
      "provenance": [],
      "authorship_tag": "ABX9TyOCiH/i+WYe6RjfbNckLEJ+",
      "include_colab_link": true
    },
    "kernelspec": {
      "name": "python3",
      "display_name": "Python 3"
    },
    "language_info": {
      "name": "python"
    }
  },
  "cells": [
    {
      "cell_type": "markdown",
      "metadata": {
        "id": "view-in-github",
        "colab_type": "text"
      },
      "source": [
        "<a href=\"https://colab.research.google.com/github/Nelo0ut/Reconocimiento-de-imagenes/blob/main/Reconocimiento_de_imagenes_Manual.ipynb\" target=\"_parent\"><img src=\"https://colab.research.google.com/assets/colab-badge.svg\" alt=\"Open In Colab\"/></a>"
      ]
    },
    {
      "cell_type": "markdown",
      "source": [
        "Aqui realizamos la conexion a nuestro Drive para poder hacer uso de nuestra data que hemos compartido previamente en el Manual"
      ],
      "metadata": {
        "id": "0E2z0mYokrXm"
      }
    },
    {
      "cell_type": "code",
      "execution_count": 1,
      "metadata": {
        "colab": {
          "base_uri": "https://localhost:8080/"
        },
        "id": "x5JzfRWqczXd",
        "outputId": "7081db50-3154-4e63-a6fe-6f40aec3f0dd"
      },
      "outputs": [
        {
          "output_type": "stream",
          "name": "stdout",
          "text": [
            "Drive already mounted at /content/drive; to attempt to forcibly remount, call drive.mount(\"/content/drive\", force_remount=True).\n"
          ]
        }
      ],
      "source": [
        "from google.colab import drive\n",
        "drive.mount('/content/drive') "
      ]
    },
    {
      "cell_type": "markdown",
      "source": [
        "Importamos las libreas que iremos a usar"
      ],
      "metadata": {
        "id": "pfwXqYpok6JN"
      }
    },
    {
      "cell_type": "code",
      "source": [
        "import numpy as np\n",
        "from tensorflow.keras.preprocessing.image import load_img\n",
        "from tensorflow.keras.preprocessing.image import img_to_array\n",
        "from keras.models import load_model\n"
      ],
      "metadata": {
        "id": "51T2nrXvc06q"
      },
      "execution_count": null,
      "outputs": []
    },
    {
      "cell_type": "markdown",
      "source": [
        "Y finalmente tenemos nuestro aplicativo para el reconocimiento de imagenes, no olvidar de importar los modelos y pesos ademas de la carpeta con imagenes que quiera reconocer en su drive para su ejecución"
      ],
      "metadata": {
        "id": "Ttv6kchDlfAN"
      }
    },
    {
      "cell_type": "code",
      "source": [
        "longitud, altura = 150, 150\n",
        "modelo = '/content/drive/MyDrive/modelo3/modelo.h5'\n",
        "pesos_modelo = '/content/drive/MyDrive/modelo3/pesos.h5'\n",
        "\n",
        "cnn = load_model(modelo)\n",
        "cnn.load_weights(pesos_modelo)\n",
        "\n",
        "def predict(file):\n",
        "  x = load_img(file, target_size=(longitud, altura))\n",
        "  x = img_to_array(x)\n",
        "  x = np.expand_dims(x, axis=0)\n",
        "  array = cnn.predict(x)\n",
        "  result = array[0]\n",
        "  answer = np.argmax(result)\n",
        "  if answer == 0:\n",
        "    print(\"pred: Audifonos\")\n",
        "  elif answer == 1:\n",
        "    print(\"pred: Billetera\")\n",
        "  elif answer == 2:\n",
        "    print(\"pred: Botella\")\n",
        "  elif answer == 3:\n",
        "    print(\"pred: Cama\")\n",
        "  elif answer == 4:\n",
        "    print(\"pred: Cuaderno\")\n",
        "  elif answer == 5:\n",
        "    print(\"pred: Laptop\")\n",
        "  elif answer == 6:\n",
        "    print(\"pred: Mochila\")\n",
        "  elif answer == 7:\n",
        "    print(\"pred: Monitor\")\n",
        "  elif answer == 8:\n",
        "    print(\"pred: Mouse\")\n",
        "  elif answer == 9:\n",
        "    print(\"pred: Teclado\")\n",
        "\n",
        "  return answer\n",
        "\n",
        "predict('/content/drive/MyDrive/Test/cuadreno.jpg')"
      ],
      "metadata": {
        "colab": {
          "base_uri": "https://localhost:8080/"
        },
        "id": "0GQ06e9-dynI",
        "outputId": "c7d95e5d-6f33-4266-a70c-db39b6916d47"
      },
      "execution_count": 4,
      "outputs": [
        {
          "output_type": "stream",
          "name": "stdout",
          "text": [
            "1/1 [==============================] - 0s 188ms/step\n",
            "pred: Cuaderno\n"
          ]
        },
        {
          "output_type": "execute_result",
          "data": {
            "text/plain": [
              "4"
            ]
          },
          "metadata": {},
          "execution_count": 4
        }
      ]
    }
  ]
}